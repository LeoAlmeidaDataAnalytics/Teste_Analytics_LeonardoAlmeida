{
 "cells": [
  {
   "cell_type": "markdown",
   "metadata": {},
   "source": [
    "                                - Calculo do total de vendas por produto"
   ]
  },
  {
   "cell_type": "code",
   "execution_count": 15,
   "metadata": {},
   "outputs": [
    {
     "name": "stdout",
     "output_type": "stream",
     "text": [
      "    id        data      produto         categoria  quantidade    preço  \\\n",
      "0    1  2023-12-30     Notebook       Eletrônicos          10  4860.64   \n",
      "1    2  2023-11-04         Mesa            Móveis          11  3705.22   \n",
      "2    3  2023-07-15      Cadeira            Móveis          17  3992.81   \n",
      "3    4  2023-01-20    Geladeira  Eletrodomésticos           5  4224.85   \n",
      "4    5  2023-10-18  Micro-ondas  Eletrodomésticos          16  3944.40   \n",
      "5    6  2023-01-03    Geladeira  Eletrodomésticos           6  1724.51   \n",
      "6    7  2023-01-12     Camiseta         Vestuário           8  3193.01   \n",
      "7    8  2023-08-08      Cadeira            Móveis          16   362.97   \n",
      "8    9  2023-05-16      Cadeira            Móveis           5  2338.41   \n",
      "9   10  2023-04-05  Micro-ondas  Eletrodomésticos           8   938.17   \n",
      "10  11  2023-03-15        Tênis         Vestuário           9  1606.61   \n",
      "11  12  2023-01-25    Geladeira  Eletrodomésticos           5  1708.95   \n",
      "12  13  2023-08-31     Camiseta         Vestuário           3  1450.29   \n",
      "13  14  2023-01-24        Tênis         Vestuário          11  2152.30   \n",
      "14  15  2023-03-09         Mesa            Móveis          17  3607.27   \n",
      "15  16  2023-10-01   Smartphone       Eletrônicos           8   469.79   \n",
      "16  17  2023-11-12     Camiseta         Vestuário           9  3222.88   \n",
      "17  18  2023-11-04        Tênis         Vestuário           6  1471.14   \n",
      "18  19  2023-07-13      Cadeira            Móveis           1  1514.81   \n",
      "19  20  2023-02-01    Geladeira  Eletrodomésticos          17  2904.48   \n",
      "20  21  2023-04-18      Cadeira            Móveis           8  4829.19   \n",
      "\n",
      "    total_de_vendas  \n",
      "0          48606.40  \n",
      "1          40757.42  \n",
      "2          67877.77  \n",
      "3          21124.25  \n",
      "4          63110.40  \n",
      "5          10347.06  \n",
      "6          25544.08  \n",
      "7           5807.52  \n",
      "8          11692.05  \n",
      "9           7505.36  \n",
      "10         14459.49  \n",
      "11          8544.75  \n",
      "12          4350.87  \n",
      "13         23675.30  \n",
      "14         61323.59  \n",
      "15          3758.32  \n",
      "16         29005.92  \n",
      "17          8826.84  \n",
      "18          1514.81  \n",
      "19         49376.16  \n",
      "20         38633.52  \n"
     ]
    }
   ],
   "source": [
    "import pandas as pd #importando a biblioteca pandas\n",
    "\n",
    "caminho = ('data_clean.csv') #variavel de caminho do dataset\n",
    "\n",
    "dataset = pd.read_csv(caminho, sep=';') #lendo o csv\n",
    "\n",
    "dataset['total_de_vendas'] = dataset['quantidade'] * dataset['preço'] #adicionando uma nova coluna para totais de vendas\n",
    "\n",
    "print(dataset.head(21))"
   ]
  },
  {
   "cell_type": "markdown",
   "metadata": {},
   "source": [
    "                    - Identificando os produtos com maiores números de vendas totais."
   ]
  },
  {
   "cell_type": "code",
   "execution_count": 14,
   "metadata": {},
   "outputs": [
    {
     "name": "stdout",
     "output_type": "stream",
     "text": [
      "       produto  total_de_vendas\n",
      "1     Camiseta        531654.76\n",
      "4  Micro-ondas        371677.88\n",
      "0      Cadeira        339624.44\n",
      "3         Mesa        315541.46\n",
      "7        Tênis        297200.54\n",
      "6   Smartphone        274827.30\n",
      "5     Notebook        166971.25\n",
      "2    Geladeira        162231.22\n"
     ]
    }
   ],
   "source": [
    "#variavel que recebe o total de vendas por produto\n",
    "totais_por_produto = dataset.groupby('produto')['total_de_vendas'].sum().reset_index()\n",
    "\n",
    "#Identificando o total de vendas por produto em ordem decrescente\n",
    "totais_por_produto = totais_por_produto.sort_values(by='total_de_vendas', ascending=False)\n",
    "\n",
    "print(totais_por_produto)"
   ]
  }
 ],
 "metadata": {
  "kernelspec": {
   "display_name": "venv",
   "language": "python",
   "name": "python3"
  },
  "language_info": {
   "codemirror_mode": {
    "name": "ipython",
    "version": 3
   },
   "file_extension": ".py",
   "mimetype": "text/x-python",
   "name": "python",
   "nbconvert_exporter": "python",
   "pygments_lexer": "ipython3",
   "version": "3.11.9"
  }
 },
 "nbformat": 4,
 "nbformat_minor": 2
}
